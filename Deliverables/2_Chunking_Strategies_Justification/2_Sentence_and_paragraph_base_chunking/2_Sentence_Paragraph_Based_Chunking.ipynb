{
  "cells": [
    {
      "cell_type": "markdown",
      "metadata": {
        "id": "20unmsUF9uNI"
      },
      "source": [
        "### Dependencies"
      ]
    },
    {
      "cell_type": "code",
      "execution_count": 20,
      "metadata": {
        "id": "UPM-lBH79uNK"
      },
      "outputs": [],
      "source": [
        "# !pip install pypdf langchain langchain_core langchain_community langchain_huggingface langchain_groq sentence_transformers transformers langchain_google_genai faiss-cpu langchain_openai grandalf pymupdf"
      ]
    },
    {
      "cell_type": "markdown",
      "metadata": {
        "id": "WJ6tUWX79uNL"
      },
      "source": [
        "### Loading Pdf"
      ]
    },
    {
      "cell_type": "code",
      "execution_count": 21,
      "metadata": {
        "id": "UySAPzsGUkcP"
      },
      "outputs": [],
      "source": [
        "from langchain_community.document_loaders import PyMuPDFLoader\n",
        "\n",
        "loader = PyMuPDFLoader(\"GSTsmartGuide.pdf\")"
      ]
    },
    {
      "cell_type": "code",
      "execution_count": 22,
      "metadata": {
        "id": "lJ-zamJnUmQ6"
      },
      "outputs": [],
      "source": [
        "docs = loader.load()"
      ]
    },
    {
      "cell_type": "code",
      "execution_count": 23,
      "metadata": {
        "colab": {
          "base_uri": "https://localhost:8080/"
        },
        "id": "FhWP9nvbUpOA",
        "outputId": "8b098101-dc65-4bfd-f2a1-6fefbc024125"
      },
      "outputs": [
        {
          "output_type": "stream",
          "name": "stderr",
          "text": [
            "[nltk_data] Downloading package punkt to /root/nltk_data...\n",
            "[nltk_data]   Package punkt is already up-to-date!\n"
          ]
        },
        {
          "output_type": "execute_result",
          "data": {
            "text/plain": [
              "True"
            ]
          },
          "metadata": {},
          "execution_count": 23
        }
      ],
      "source": [
        "import nltk\n",
        "import re\n",
        "from nltk.tokenize import sent_tokenize\n",
        "from typing import List\n",
        "\n",
        "nltk.download('punkt')\n"
      ]
    },
    {
      "cell_type": "code",
      "execution_count": 24,
      "metadata": {
        "colab": {
          "base_uri": "https://localhost:8080/"
        },
        "id": "-BMRvpNqWfDJ",
        "outputId": "16d5a177-e0c4-4628-81d6-0fd05c22be58"
      },
      "outputs": [
        {
          "output_type": "stream",
          "name": "stderr",
          "text": [
            "[nltk_data] Downloading package punkt_tab to /root/nltk_data...\n",
            "[nltk_data]   Package punkt_tab is already up-to-date!\n"
          ]
        },
        {
          "output_type": "execute_result",
          "data": {
            "text/plain": [
              "True"
            ]
          },
          "metadata": {},
          "execution_count": 24
        }
      ],
      "source": [
        "nltk.download('punkt_tab')"
      ]
    },
    {
      "cell_type": "code",
      "source": [
        "# Extract text from each Document object\n",
        "texts = [doc.page_content if hasattr(doc, 'page_content') else str(doc) for doc in docs]"
      ],
      "metadata": {
        "id": "lCbJgvZAB27T"
      },
      "execution_count": 25,
      "outputs": []
    },
    {
      "cell_type": "code",
      "source": [
        "texts[100]"
      ],
      "metadata": {
        "colab": {
          "base_uri": "https://localhost:8080/",
          "height": 157
        },
        "id": "r1uiassuB4Hx",
        "outputId": "a5a8b67f-ec9a-483b-efba-959a57455eb5"
      },
      "execution_count": 26,
      "outputs": [
        {
          "output_type": "execute_result",
          "data": {
            "text/plain": [
              "'84 \\nGST Smart Guide \\nChap. 5 \\n \\n(3) The place of supply of the following services shall be the location where \\nthe services are actually performed, namely:—  \\n(a) services supplied in respect of goods which are required to be made \\nphysically available by the recipient of services to the supplier of \\nservices, or to a person acting on behalf of the supplier of services in \\norder to provide the services:  \\n \\nProvided that when such services are provided from a remote location by \\nway of electronic means, the place of supply shall be the location where \\ngoods are situated at the time of supply of services: \\n \\nProvided further that nothing contained in this clause shall apply in the \\ncase of services supplied in respect of goods which are temporarily \\nimported into India for repairs and are exported after repairs without \\nbeing put to any other use in India, than that which is required for such \\nrepairs; \\n(b) services supplied to an individual, represented either as the recipient of \\nservices or a person acting on behalf of the recipient, which require the \\nphysical presence of the recipient or the person acting on his behalf, with \\nthe supplier for the supply of services.  \\n(4) The place of supply of services supplied directly in relation to an \\nimmovable property, including services supplied in this regard by experts and \\nestate agents, supply of campsite, by whatever name called, grant of rights to use \\nimmovable property, services for carrying out or coordination of construction \\nwork, including that of architects or interior decorators, shall be the place where \\nthe immovable property is located or intended to be located.  \\n(5) The place of supply of services supplied by way of admission to, or \\norganisation of a cultural, artistic, sporting, scientific, educational or \\nentertainment event, or a celebration, conference, fair, exhibition or similar \\nevents, and of services ancillary to such admission or organisation, shall be the \\nplace where the event is actually held. \\n(6)  Where any services are supplied at more than one location, including a \\nlocation in the taxable territory, its place of supply shall be the location in the \\ntaxable territory. \\n(7) Where the services are supplied in more than one State or Union \\nterritory, the place of supply of such services shall be taken as being in each of \\nthe respective States or Union territories and the value of such supplies specific \\nto each State or Union territory shall be in proportion to the value for services \\nseparately collected or determined in terms of the contract or agreement entered \\ninto in this regard or, in the absence of such contract or agreement, on such other \\nbasis as may be prescribed. \\n(8) The place of supply of the following services shall be the location of the \\nsupplier of services, namely:–– \\n(a) services supplied by a banking company, or a financial institution, or a \\nnon-banking financial company, to account holders;'"
            ],
            "application/vnd.google.colaboratory.intrinsic+json": {
              "type": "string"
            }
          },
          "metadata": {},
          "execution_count": 26
        }
      ]
    },
    {
      "cell_type": "markdown",
      "metadata": {
        "id": "_c1rlo-NVqer"
      },
      "source": [
        "## Sentence/Paragraph-Based Chunking (using NLTK)"
      ]
    },
    {
      "cell_type": "code",
      "execution_count": 44,
      "metadata": {
        "id": "loOr9XAXVmvL"
      },
      "outputs": [],
      "source": [
        "# Sentence chunking\n",
        "def sentence_chunking(text: str, max_sentences=3):\n",
        "    sentences = sent_tokenize(text)\n",
        "    chunks = []\n",
        "    for i in range(0, len(sentences), max_sentences):\n",
        "        chunks.append(\" \".join(sentences[i:i+max_sentences]))\n",
        "    return chunks"
      ]
    },
    {
      "cell_type": "code",
      "source": [
        "sentence_chunks = [chunk for text in texts for chunk in sentence_chunking(text,max_sentences=3)]"
      ],
      "metadata": {
        "id": "vnjS1ZIZB_8-"
      },
      "execution_count": 45,
      "outputs": []
    },
    {
      "cell_type": "code",
      "source": [
        "sentence_chunks[100:105]"
      ],
      "metadata": {
        "colab": {
          "base_uri": "https://localhost:8080/"
        },
        "id": "Ue2--7-VCK1t",
        "outputId": "661491eb-8d52-4385-f40f-8fbc7d1ca1a6"
      },
      "execution_count": 46,
      "outputs": [
        {
          "output_type": "execute_result",
          "data": {
            "text/plain": [
              "['A few \\ncommodities were subjected to special excise duty. 3.5 Taxation of services by the Union was introduced in 1994 bringing in its \\nambit only three services, namely general insurance, telecommunication and \\nstock broking. Gradually, more and more services were brought into the fold.',\n",
              " 'Over the next decade, more and more services were brought under the tax net. In \\n1994, tax rate on three services was 5% which gradually increased and in 2017 it \\nwas 15% (including cess). Before 2012, services were taxed under a ‘positive \\nlist’ approach.',\n",
              " 'This approach was prone to ‘tax avoidance’. In 2012 budget, \\nnegative list approach was adopted where 17 services were out of taxation net \\nand all other services were subject to tax. In 2004, the input tax credit scheme for \\nCENVAT and Service Tax was merged to permit cross utilization of credits \\nacross these taxes.',\n",
              " '3.6 Before state level VAT was introduced by States in the first half of the \\nfirst decade of this century, sales tax was levied in States since independence. Sales tax was plagued by some serious flaws. It was levied by States in an \\nuncoordinated manner the consequences of which were different rates of sales \\ntax on different commodities in different States.',\n",
              " 'Rates of sales tax were more \\nthan ten in some States and these varied for the same commodity in different \\nStates. Inter-State sales were subjected to levy of Central Sales Tax. As this tax \\nwas appropriated by the exporting State credit was not allowed by the dealer in \\nthe importing State.']"
            ]
          },
          "metadata": {},
          "execution_count": 46
        }
      ]
    },
    {
      "cell_type": "markdown",
      "source": [
        "___"
      ],
      "metadata": {
        "id": "RpJHQ90qD6NB"
      }
    },
    {
      "cell_type": "code",
      "source": [
        "##Paragraph Chunking\n",
        "from nltk.tokenize import word_tokenize\n",
        "\n",
        "def paragraph_chunking(text: str, max_tokens: int = 200):\n",
        "    \"\"\"\n",
        "    Splits text into paragraphs and further splits large paragraphs into smaller chunks\n",
        "    based on token count (max_tokens).\n",
        "    \"\"\"\n",
        "    paragraphs = [p.strip() for p in text.split(\"\\n\\n\") if len(p.strip()) > 20]\n",
        "    chunks = []\n",
        "\n",
        "    for para in paragraphs:\n",
        "        tokens = word_tokenize(para)\n",
        "\n",
        "        # Split tokens into chunks of max_tokens\n",
        "        for i in range(0, len(tokens), max_tokens):\n",
        "            chunk_tokens = tokens[i:i + max_tokens]\n",
        "            chunk_text = \" \".join(chunk_tokens)\n",
        "            chunks.append(chunk_text)\n",
        "\n",
        "    return chunks\n"
      ],
      "metadata": {
        "id": "IesaPoNOEfp7"
      },
      "execution_count": 47,
      "outputs": []
    },
    {
      "cell_type": "code",
      "source": [
        "paragraph_chunks = [chunk for text in texts for chunk in paragraph_chunking(text, max_tokens=150)]"
      ],
      "metadata": {
        "id": "2I6YMOeJEkSU"
      },
      "execution_count": 40,
      "outputs": []
    },
    {
      "cell_type": "code",
      "source": [
        "paragraph_chunks[100:103]"
      ],
      "metadata": {
        "colab": {
          "base_uri": "https://localhost:8080/"
        },
        "id": "RJRtcKalEnFD",
        "outputId": "43ce5789-b7f2-46ac-fe46-b13164c024de"
      },
      "execution_count": 43,
      "outputs": [
        {
          "output_type": "execute_result",
          "data": {
            "text/plain": [
              "['18 GST Smart Guide Chap . 1 25.14 Export : 25.15 E-Wallet Scheme shall be introduced for exporters from 1-4-2020 and till then relief for exporters shall be given in form of broadly existing practice . 25.16 Supply of services to Nepal and Bhutan shall be exempted from GST even if payment has not been received in foreign convertible currency - such suppliers shall be eligible for input tax credit . 25.17 Supply of services to qualify as exports , even if payment is received in Indian Rupees , where permitted by the RBI . 25.18 Rate of Interest : 25.19 Rate of interest on delayed payments and delayed refund has been recommended . 25.20 MSME : 25.21 A Group of Ministers has been constituted to look into the issues being faced by MSMEs and to provide solutions for the same . 25.22 Revenue Mobilization : 25.23 A Group of',\n",
              " 'Ministers has been constituted to study the revenue trend , including analyzing the reasons for structural patterns affecting the revenue collection in some of the States . The study would include the underlying reasons for deviation from the revenue collection targets vis-à-vis original assumptions discussed during the design of GST system , its implementation and related structural issues . 25.24 The Group of Ministers will be assisted by the committee of experts from Central Government , State Governments and the NIPFP ( National Institute of Public Finance and Planning ) , who would study and share the findings with GoM . The GoM in turn would give its recommendation to the GST Council . 25.25 The amount of IGST not apportioned to the Centre or the States/UTs may , for the time being , on the recommendations of the Council , be apportioned at the rate of fifty per cent',\n",
              " 'to the Central Government and fifty per cent to the State Governments or the Union territories , as the case may be , on ad-hoc basis and this amount shall be adjusted against the amount finally apportioned . 25.26 Fifty per cent of such amount , as may be recommended by the Council , which remains unutilized in the Compensation Fund , at any point of time in any financial year during the transition period shall be transferred to the Consolidated Fund of India as the share of Centre , and the balance fifty per cent shall be distributed amongst the States in the ratio of their base year revenue . 25.27 In case of shortfall in the amount collected in the Fund against the requirement of compensation to be released for any two months ’ period , fifty per cent of the same , but not exceeding the total']"
            ]
          },
          "metadata": {},
          "execution_count": 43
        }
      ]
    }
  ],
  "metadata": {
    "colab": {
      "provenance": []
    },
    "kernelspec": {
      "display_name": "Python 3",
      "name": "python3"
    },
    "language_info": {
      "name": "python"
    }
  },
  "nbformat": 4,
  "nbformat_minor": 0
}