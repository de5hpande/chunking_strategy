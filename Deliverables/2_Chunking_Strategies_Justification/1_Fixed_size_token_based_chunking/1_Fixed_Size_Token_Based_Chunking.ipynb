{
  "cells": [
    {
      "cell_type": "markdown",
      "metadata": {
        "id": "Qn-zJDkPAe6V"
      },
      "source": [
        "### Dependencies"
      ]
    },
    {
      "cell_type": "code",
      "execution_count": 11,
      "metadata": {
        "colab": {
          "base_uri": "https://localhost:8080/"
        },
        "id": "Z5rZ-1q9Ae6X",
        "outputId": "174fd8cb-e1ef-42c1-8c5f-debc326f9228"
      },
      "outputs": [],
      "source": [
        "# !pip install pypdf langchain langchain_core langchain_community langchain_huggingface langchain_groq sentence_transformers transformers langchain_google_genai faiss-cpu langchain_openai grandalf pymupdf"
      ]
    },
    {
      "cell_type": "markdown",
      "metadata": {
        "id": "bPMIZfuPAe6Y"
      },
      "source": [
        "### Loading PDF"
      ]
    },
    {
      "cell_type": "code",
      "execution_count": 5,
      "metadata": {
        "id": "UySAPzsGUkcP"
      },
      "outputs": [],
      "source": [
        "from langchain_community.document_loaders import PyMuPDFLoader\n",
        "\n",
        "loader = PyMuPDFLoader(\"GSTsmartGuide.pdf\")"
      ]
    },
    {
      "cell_type": "code",
      "execution_count": 6,
      "metadata": {
        "id": "lJ-zamJnUmQ6"
      },
      "outputs": [],
      "source": [
        "docs = loader.load()"
      ]
    },
    {
      "cell_type": "code",
      "execution_count": 7,
      "metadata": {
        "colab": {
          "base_uri": "https://localhost:8080/"
        },
        "id": "FhWP9nvbUpOA",
        "outputId": "6a4aec91-cf16-418d-d51d-f4d9ca4edce0"
      },
      "outputs": [
        {
          "name": "stderr",
          "output_type": "stream",
          "text": [
            "[nltk_data] Downloading package punkt to /root/nltk_data...\n",
            "[nltk_data]   Unzipping tokenizers/punkt.zip.\n"
          ]
        },
        {
          "data": {
            "text/plain": [
              "True"
            ]
          },
          "execution_count": 7,
          "metadata": {},
          "output_type": "execute_result"
        }
      ],
      "source": [
        "import nltk\n",
        "import re\n",
        "from nltk.tokenize import sent_tokenize\n",
        "from typing import List\n",
        "\n",
        "nltk.download('punkt')  # For sentence tokenization\n",
        "\n",
        "# Assuming `docs` is a list of strings (one per page or section)\n"
      ]
    },
    {
      "cell_type": "markdown",
      "metadata": {
        "id": "_c1rlo-NVqer"
      },
      "source": [
        "## Fixed-Size Token-Based Chunking"
      ]
    },
    {
      "cell_type": "code",
      "execution_count": null,
      "metadata": {
        "id": "OuKiymNcAe6b"
      },
      "outputs": [],
      "source": [
        "# from langchain.text_splitter import RecursiveCharacterTextSplitter\n",
        "# from langchain.schema import Document\n",
        "\n",
        "# # Assume docs is a list of Document objects\n",
        "# text_splitter = RecursiveCharacterTextSplitter(\n",
        "#     chunk_size=1000,\n",
        "#     chunk_overlap=250\n",
        "# )\n",
        "\n",
        "# # This handles splitting across all docs and gives you Document objects\n",
        "# fixed_chunks = text_splitter.split_documents(docs)"
      ]
    },
    {
      "cell_type": "code",
      "execution_count": 10,
      "metadata": {
        "id": "loOr9XAXVmvL"
      },
      "outputs": [],
      "source": [
        "from transformers import AutoTokenizer\n",
        "\n",
        "tokenizer = AutoTokenizer.from_pretrained(\"bert-base-uncased\")\n",
        "\n",
        "def fixed_token_chunking(text: str, max_tokens=1000, overlap=250):\n",
        "    tokens = tokenizer.tokenize(text)\n",
        "    chunks = []\n",
        "    i = 0\n",
        "    while i < len(tokens):\n",
        "        chunk_tokens = tokens[i:i+max_tokens]\n",
        "        chunk = tokenizer.convert_tokens_to_string(chunk_tokens)\n",
        "        chunks.append(chunk)\n",
        "        i += max_tokens - overlap\n",
        "    return chunks"
      ]
    },
    {
      "cell_type": "code",
      "execution_count": 20,
      "metadata": {
        "id": "TDgnEzLlV0Pp"
      },
      "outputs": [],
      "source": [
        "# docs is a list of Document objects, extract text from .page_content\n",
        "fixed_chunks = [chunk for doc in docs for chunk in fixed_token_chunking(doc.page_content,max_tokens=300,overlap=100)]"
      ]
    },
    {
      "cell_type": "code",
      "execution_count": 21,
      "metadata": {
        "colab": {
          "base_uri": "https://localhost:8080/"
        },
        "id": "0vKG_IyrD5r6",
        "outputId": "0f2bfeda-93e3-4b31-f9fa-fe787c25a530"
      },
      "outputs": [
        {
          "data": {
            "text/plain": [
              "['aggregate turnover of ` 500 crore and above. this threshold has been reduced progressively over a period of time and was reduced to ` 10 crores from 01. 10. 2022. this threshold limit has been further reduced to ` 5 crore with effect from 01. 08. 2023 vide notification no. 10 / 2023 - central tax dated 10. 05. 2023. 25. 43 refund related measures. ( a ) a new functionality has been made available on the common portal which allows unregistered persons to take a temporary registration and apply for refund. also, the manner and procedure for filing of refund applications by unregistered persons in certain circumstances has been prescribed vide circular no. 188 / 20 / 2022 - gst, dated 27. 12. 2022. ( b ) manner for processing and sanction of such igst refunds, which werewith held on account of exporters being flagged as risky on the basis of risk parameters and data analytics, was prescribed vide instruction no. 04 / 2022 - gst, dated 28. 11. 2022. 25. 44 registration related measures : ( a ) a proviso ( 3rd proviso ) has been inserted in rule 21a ( 4 ) to provide for automatic revocation of such system - based suspension upon compliance with provisions of rule 10a. ( b ) amendment has been made in rule 9and rule 25 of cgst rules, 2017 to do',\n",
              " 'and data analytics, was prescribed vide instruction no. 04 / 2022 - gst, dated 28. 11. 2022. 25. 44 registration related measures : ( a ) a proviso ( 3rd proviso ) has been inserted in rule 21a ( 4 ) to provide for automatic revocation of such system - based suspension upon compliance with provisions of rule 10a. ( b ) amendment has been made in rule 9and rule 25 of cgst rules, 2017 to do away with the requirement of the presence of the applicant for the physical verification of business premises and also to provide for physical verification in high risk cases even where aadhaar has been authenticated. ( c ) vide notification no. 03 / 2023 - ct, dated 31. 03. 2023, for such registrations which were cancelled for non - filing of returns on or before 31. 12. 2022 and application for revocation was not filed or appeal has been rejected or appeal is pending within the specified time, the time limit for filing of application for revocation of cancellation of registration, was extended till 30. 06. 2023. further, vide notification no.']"
            ]
          },
          "execution_count": 21,
          "metadata": {},
          "output_type": "execute_result"
        }
      ],
      "source": [
        "fixed_chunks[100:102]"
      ]
    },
    {
      "cell_type": "code",
      "execution_count": null,
      "metadata": {
        "id": "QTP6HDBND89G"
      },
      "outputs": [],
      "source": []
    }
  ],
  "metadata": {
    "colab": {
      "provenance": []
    },
    "kernelspec": {
      "display_name": "Python 3",
      "language": "python",
      "name": "python3"
    },
    "language_info": {
      "codemirror_mode": {
        "name": "ipython",
        "version": 3
      },
      "file_extension": ".py",
      "mimetype": "text/x-python",
      "name": "python",
      "nbconvert_exporter": "python",
      "pygments_lexer": "ipython3",
      "version": "3.11.0"
    }
  },
  "nbformat": 4,
  "nbformat_minor": 0
}
